{
 "cells": [
  {
   "cell_type": "markdown",
   "metadata": {},
   "source": [
    "# PHYSICS 1 - Mechanics\n",
    "#### Wednesday August 21st 2023 A.D."
   ]
  },
  {
   "cell_type": "markdown",
   "metadata": {},
   "source": [
    "### Kinematics\n",
    "\n",
    "__Calculus Based Equations:__\n",
    "- $v_{x}(t)\\equiv \\frac{dx(t)}{dt}$\n",
    "- $a_{x}\\equiv \\frac{dv_{x}(t)}{dt}=\\frac{d^2x(t)}{dt^2}$\n",
    "- $x(t) = x(t_{i})+ \\int_{t_{i}}^{t}v_{x}(t') \\, dt'$\n",
    "- $v_x(t) = v(t_{i})+ \\int_{t_{i}}^{t}a_{x}(t') \\, dt'$"
   ]
  },
  {
   "cell_type": "markdown",
   "metadata": {},
   "source": [
    "__Example #1__:\n",
    "\n",
    "The acceleration of a train moving in a straight line is given by $a_x(t) = \\left(5.7 \\frac{\\text{m}}{\\text{s}^3} \\right) \\cdot t$. If its velocity at $t_{i}= 1 \\text{s}$ is $v_{i,x} = 2.93 \\text{m}/\\text{s}$, what is its velocity at $t_{f} = 3 \\text{s}$\n",
    "- $$v_{f,x} = v_{i,x} + \\int_{t_i}^{t_f} a_{x}(t') \\, dt'$$\n",
    "> Let $c = 5.7 \\frac{\\text{m}}{\\text{s}^3}$\n",
    "- $$v_{f,x} = v_{i,x} + \\int_{t_i}^{t_f} ct' \\, dt$$\n",
    "- $$v_{f,x} = v_{i,x} + \\frac{1}{2}ct^3 \\bigg\\rvert_{t_i}^{t_f}$$\n",
    "- $$v_{f,x} = v_{i,x} + \\frac{1}{2}c (t_{f}^2 + t_{i}^2)$$"
   ]
  },
  {
   "cell_type": "markdown",
   "metadata": {},
   "source": [
    "__Example #2__:\n",
    "\n",
    "The acceleration of a train moving in a straight line is given by $a_x(t) = \\left(5.7 \\frac{\\text{m}}{\\text{s}^3} \\right) \\cdot t$. If its velocity at $t_{i}= 1 \\text{s}$ is $v_{i,x} = 2.93 \\text{m}/\\text{s}$, what is its displacement at $t_{f} = 3 \\text{s}$\n",
    "\n",
    "- $$v_{f,x} = v_{i,x} + \\int_{t_i}^{t_f} a_{x}(t') \\, dt'$$\n",
    "> Let $c = 5.7 \\frac{\\text{m}}{\\text{s}^3}$\n",
    "- $$v_{f,x} = v_{i,x} + \\int_{t_i}^{t} ct' \\, dt$$\n",
    "- $$v_{f,x} = v_{i,x} + \\frac{1}{2}ct^3 \\bigg\\rvert_{t_i}^{t}$$\n",
    "- $$v_{f,x} = $$\n",
    "- $$\\Delta x = \\int_{t_i}^{t_f} \\left(v_{i,x} + \\frac{1}{2}c (t^2 + t_{i}^2)\\right) \\, dx$$\n",
    "- $$\\Delta x = \\left[ v_{i,x} t + \\frac{1}{6}ct^3 - \\frac{1}{2}ct_{f}^2 t \\right]_{t_i}^{t_{f}} $$\n",
    "- $$\\Delta x = v_{i,x} (t_f - t_i) + \\frac{1}{6}c(t_{f}^{3}-t_{i}^{3}) - \\frac{1}{2}ct_{f}^2 (t_f - t_i)$$\n",
    "\n"
   ]
  }
 ],
 "metadata": {
  "kernelspec": {
   "display_name": "Python 3",
   "language": "python",
   "name": "python3"
  },
  "language_info": {
   "name": "python",
   "version": "3.11.3"
  },
  "orig_nbformat": 4
 },
 "nbformat": 4,
 "nbformat_minor": 2
}
